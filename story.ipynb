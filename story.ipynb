{
 "cells": [
  {
   "cell_type": "markdown",
   "metadata": {},
   "source": [
    "한빛 마켓은 인기가 좋은 앱 마켓이다 "
   ]
  },
  {
   "cell_type": "markdown",
   "metadata": {},
   "source": [
    "김 팀장은 머신러닝을 사용해 문제를 해결하려고 혼공머신을 채용함"
   ]
  },
  {
   "cell_type": "markdown",
   "metadata": {},
   "source": [
    "고객이 온라인으로 주문하면 가장 빠른 물류 센터에서 신선한 생선을 바로 배송 "
   ]
  },
  {
   "cell_type": "markdown",
   "metadata": {},
   "source": [
    "근데 직원이 생선 이름을 외우지 못 하는 문제가 발생"
   ]
  },
  {
   "cell_type": "markdown",
   "metadata": {},
   "source": [
    " <span style=\"color:blue\">**첫 번째 미션**</span>"
   ]
  },
  {
   "cell_type": "markdown",
   "metadata": {},
   "source": [
    "생선 이름을 알려주는 머신러닝을 만들어라!!"
   ]
  },
  {
   "cell_type": "markdown",
   "metadata": {},
   "source": [
    "- 생선 분류 문제"
   ]
  },
  {
   "cell_type": "markdown",
   "metadata": {},
   "source": [
    "무게와 길이로 도미와 빙어 분류"
   ]
  },
  {
   "cell_type": "markdown",
   "metadata": {},
   "source": [
    "1. 도미 matplotlib 패키지로 산점도 그리기 $\\rightarrow$ 선형"
   ]
  },
  {
   "cell_type": "markdown",
   "metadata": {},
   "source": [
    "2. 빙어 matplotlib 패키지로 산점도 그리기 $\\rightarrow$ 선형이나 무게가 길이에 영향을 덜 받음"
   ]
  },
  {
   "cell_type": "markdown",
   "metadata": {},
   "source": [
    "- knn(k-최근접 이웃)알고리즘 사용(scikit-learn 패키지 사용)  \n",
    "어떤 데이터에 대한 답을 구할 때 주위의 다른 데이터를 보고 다수를 차지하는 것으로 결정  \n",
    "직선거리를 계산하는 데 많은 시간이 필요  "
   ]
  },
  {
   "cell_type": "markdown",
   "metadata": {},
   "source": [
    "`from sklearn.neighbors import KNeighborsClasifier`"
   ]
  },
  {
   "cell_type": "markdown",
   "metadata": {},
   "source": [
    "`_fit_X`속성에 데이터를 가지고 있고 `_y`속성에 타깃 정보가 있음"
   ]
  },
  {
   "cell_type": "markdown",
   "metadata": {},
   "source": [
    "- model $\\rightarrow$ fit $\\rightarrow$ predict"
   ]
  },
  {
   "cell_type": "markdown",
   "metadata": {},
   "source": [
    "- 평가는 score() 사용"
   ]
  },
  {
   "cell_type": "markdown",
   "metadata": {},
   "source": [
    "**문제 발생1**"
   ]
  },
  {
   "cell_type": "markdown",
   "metadata": {},
   "source": [
    "도미와 빙어를 저장하고 맞추니까 당연히 100%를 달성  \n",
    "train(35)과test(14)로 나눠서 다시 도전"
   ]
  },
  {
   "cell_type": "markdown",
   "metadata": {},
   "source": [
    "**문제 발생2**"
   ]
  },
  {
   "cell_type": "markdown",
   "metadata": {},
   "source": [
    "25cm이고 150g이면 도미인데 빙어로 예측"
   ]
  },
  {
   "cell_type": "markdown",
   "metadata": {},
   "source": [
    "- `np.column_stack`은 열로 붙어 버리고 `np.concatenate`는 행으로 붙음"
   ]
  },
  {
   "cell_type": "markdown",
   "metadata": {},
   "source": [
    "- `from sklearn.model_selection import train_test_split`는 비율에 맞게 잘 나눠 줌"
   ]
  },
  {
   "cell_type": "markdown",
   "metadata": {},
   "source": [
    "기준이 달라서 이상하게 예측함"
   ]
  },
  {
   "cell_type": "markdown",
   "metadata": {},
   "source": [
    "스케일을 함  \n",
    "대표적인 방법은 **표준점수**"
   ]
  },
  {
   "cell_type": "markdown",
   "metadata": {},
   "source": [
    "`from sklearn.preprocessing import StandardScaler`"
   ]
  },
  {
   "cell_type": "markdown",
   "metadata": {},
   "source": [
    " fit $\\rightarrow$ transform"
   ]
  },
  {
   "cell_type": "markdown",
   "metadata": {},
   "source": [
    " <span style=\"color:blue\">**두 번째 미션**</span>"
   ]
  },
  {
   "cell_type": "markdown",
   "metadata": {},
   "source": [
    "농어를 무게 단위로 판매하려고 함"
   ]
  },
  {
   "cell_type": "markdown",
   "metadata": {},
   "source": [
    "그런데 농어 무게를 다시 측정해야하는데 다른 데이터(길이,높이,두께)는 정상이라 무게를 예측하는 것을 만들어야 함"
   ]
  },
  {
   "cell_type": "markdown",
   "metadata": {},
   "source": [
    "정확하게 측정한 농어 샘플 56개로 시작"
   ]
  },
  {
   "cell_type": "markdown",
   "metadata": {},
   "source": [
    "- knn회귀를 사용  \n",
    "분류와 똑같이 샘플에 가장 가까운 샘플 K개를 선택하고 평균을 구함"
   ]
  },
  {
   "cell_type": "markdown",
   "metadata": {},
   "source": [
    "`from sklearn.neighbors import KNeighborsRegressor`"
   ]
  },
  {
   "cell_type": "markdown",
   "metadata": {},
   "source": [
    "과소적합이 생김 $\\rightarrow$ k를 줄여서 좀 더 복잡하게 모델을 만들어 냄"
   ]
  },
  {
   "cell_type": "markdown",
   "metadata": {},
   "source": [
    "**문제 발생1**"
   ]
  },
  {
   "cell_type": "markdown",
   "metadata": {},
   "source": [
    "실제 무게와 예측 무게와 차이가 많이 남"
   ]
  },
  {
   "cell_type": "markdown",
   "metadata": {},
   "source": [
    "- knn회귀 말고 선형 회귀를 사용"
   ]
  },
  {
   "cell_type": "markdown",
   "metadata": {},
   "source": [
    "`from sklearn.linear_model import LinearRegression`"
   ]
  },
  {
   "cell_type": "markdown",
   "metadata": {},
   "source": [
    "무게를 예측하는 일인데 -가 나옴 현실에서 있을 수 없는 일"
   ]
  },
  {
   "cell_type": "markdown",
   "metadata": {},
   "source": [
    "- 다항 회귀를 이용"
   ]
  },
  {
   "cell_type": "markdown",
   "metadata": {},
   "source": [
    "- 특성을 길이 말고 다른 것도 사용하기로 함"
   ]
  },
  {
   "cell_type": "markdown",
   "metadata": {},
   "source": [
    "- 다중 회귀 이용"
   ]
  },
  {
   "cell_type": "markdown",
   "metadata": {},
   "source": [
    "기존의 특성으로 새로운 특성을 만들어 냄(제곱, 곱 등등)  \n",
    "사이킷런에서 변환기를 사용"
   ]
  },
  {
   "cell_type": "markdown",
   "metadata": {},
   "source": [
    "`from sklearn.preprocessing import PolynomialFeatures`"
   ]
  },
  {
   "cell_type": "markdown",
   "metadata": {},
   "source": [
    " fit $\\rightarrow$ transform"
   ]
  },
  {
   "cell_type": "markdown",
   "metadata": {},
   "source": [
    "과대 적합이 발생"
   ]
  },
  {
   "cell_type": "markdown",
   "metadata": {},
   "source": [
    "**규제**는 계수의 크기를 작게 만들어 머신 러닝 모델이 훈련 세트를 너무 과도하게 학습하지 못하도록 방해  \n",
    "대표적으로 릿지와 라쏘가 있음"
   ]
  },
  {
   "cell_type": "markdown",
   "metadata": {},
   "source": [
    "- 릿지  \n",
    "계수를 제곱한 값을 기준으로 규제를 적용"
   ]
  },
  {
   "cell_type": "markdown",
   "metadata": {},
   "source": [
    "`from sklearn.linear_model import Ridge`"
   ]
  },
  {
   "cell_type": "markdown",
   "metadata": {},
   "source": [
    "- 라쏘  \n",
    "계수의 절댓값을 기준으로 규제를 적용하고 계수의 크기를 아예 0으로 만들 수 있음"
   ]
  },
  {
   "cell_type": "markdown",
   "metadata": {},
   "source": [
    "`from sklearn.linear_model import Lasso`"
   ]
  },
  {
   "cell_type": "markdown",
   "metadata": {},
   "source": [
    "$\\alpha$값이 작으면 계수를 줄이는게 약해짐"
   ]
  },
  {
   "cell_type": "markdown",
   "metadata": {},
   "source": [
    " <span style=\"color:blue\">**세 번째 미션**</span>"
   ]
  },
  {
   "cell_type": "markdown",
   "metadata": {},
   "source": []
  },
  {
   "cell_type": "markdown",
   "metadata": {},
   "source": []
  },
  {
   "cell_type": "markdown",
   "metadata": {},
   "source": []
  },
  {
   "cell_type": "markdown",
   "metadata": {},
   "source": []
  }
 ],
 "metadata": {
  "kernelspec": {
   "display_name": "Python 3",
   "language": "python",
   "name": "python3"
  },
  "language_info": {
   "codemirror_mode": {
    "name": "ipython",
    "version": 3
   },
   "file_extension": ".py",
   "mimetype": "text/x-python",
   "name": "python",
   "nbconvert_exporter": "python",
   "pygments_lexer": "ipython3",
   "version": "3.8.5"
  },
  "toc": {
   "base_numbering": 1,
   "nav_menu": {},
   "number_sections": true,
   "sideBar": true,
   "skip_h1_title": false,
   "title_cell": "Table of Contents",
   "title_sidebar": "Contents",
   "toc_cell": false,
   "toc_position": {},
   "toc_section_display": true,
   "toc_window_display": false
  }
 },
 "nbformat": 4,
 "nbformat_minor": 4
}
