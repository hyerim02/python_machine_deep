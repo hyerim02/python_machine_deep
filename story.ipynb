{
 "cells": [
  {
   "cell_type": "markdown",
   "metadata": {},
   "source": [
    "한빛 마켓은 인기가 좋은 앱 마켓이다 "
   ]
  },
  {
   "cell_type": "markdown",
   "metadata": {},
   "source": [
    "김 팀장은 머신러닝을 사용해 문제를 해결하려고 혼공머신을 채용함"
   ]
  },
  {
   "cell_type": "markdown",
   "metadata": {},
   "source": [
    "고객이 온라인으로 주문하면 가장 빠른 물류 센터에서 신선한 생선을 바로 배송 "
   ]
  },
  {
   "cell_type": "markdown",
   "metadata": {},
   "source": [
    "근데 직원이 생선 이름을 외우지 못 하는 문제가 발생"
   ]
  },
  {
   "cell_type": "markdown",
   "metadata": {},
   "source": [
    " <span style=\"color:blue\">**첫 번째 미션**</span>"
   ]
  },
  {
   "cell_type": "markdown",
   "metadata": {},
   "source": [
    "생선 이름을 알려주는 머신러닝을 만들어라!!"
   ]
  },
  {
   "cell_type": "markdown",
   "metadata": {},
   "source": [
    "- 생선 분류 문제"
   ]
  },
  {
   "cell_type": "markdown",
   "metadata": {},
   "source": [
    "무게와 길이로 도미와 빙어 분류"
   ]
  },
  {
   "cell_type": "markdown",
   "metadata": {},
   "source": [
    "1. 도미 matplotlib 패키지로 산점도 그리기 $\\rightarrow$ 선형"
   ]
  },
  {
   "cell_type": "markdown",
   "metadata": {},
   "source": [
    "2. 빙어 matplotlib 패키지로 산점도 그리기 $\\rightarrow$ 선형이나 무게가 길이에 영향을 덜 받음"
   ]
  },
  {
   "cell_type": "markdown",
   "metadata": {},
   "source": [
    "- knn(k-최근접 이웃)알고리즘 사용(scikit-learn 패키지 사용)  \n",
    "어떤 데이터에 대한 답을 구할 때 주위의 다른 데이터를 보고 다수를 차지하는 것으로 결정  \n",
    "직선거리를 계산하는 데 많은 시간이 필요  "
   ]
  },
  {
   "cell_type": "markdown",
   "metadata": {},
   "source": [
    "`from sklearn.neighbors import KNeighborsClasifier`"
   ]
  },
  {
   "cell_type": "markdown",
   "metadata": {},
   "source": [
    "`_fit_X`속성에 데이터를 가지고 있고 `_y`속성에 타깃 정보가 있음"
   ]
  },
  {
   "cell_type": "markdown",
   "metadata": {},
   "source": [
    "- model $\\rightarrow$ fit $\\rightarrow$ predict"
   ]
  },
  {
   "cell_type": "markdown",
   "metadata": {},
   "source": [
    "- 평가는 score() 사용"
   ]
  },
  {
   "cell_type": "markdown",
   "metadata": {},
   "source": [
    "**문제 발생1**"
   ]
  },
  {
   "cell_type": "markdown",
   "metadata": {},
   "source": [
    "도미와 빙어를 저장하고 맞추니까 당연히 100%를 달성  \n",
    "train(35)과test(14)로 나눠서 다시 도전"
   ]
  },
  {
   "cell_type": "markdown",
   "metadata": {},
   "source": [
    "**문제 발생2**"
   ]
  },
  {
   "cell_type": "markdown",
   "metadata": {},
   "source": [
    "25cm이고 150g이면 도미인데 빙어로 예측"
   ]
  },
  {
   "cell_type": "markdown",
   "metadata": {},
   "source": [
    "- `np.column_stack`은 열로 붙어 버리고 `np.concatenate`는 행으로 붙음"
   ]
  },
  {
   "cell_type": "markdown",
   "metadata": {},
   "source": [
    "- `from sklearn.model_selection import train_test_split`는 비율에 맞게 잘 나눠 줌"
   ]
  },
  {
   "cell_type": "markdown",
   "metadata": {},
   "source": [
    "기준이 달라서 이상하게 예측함"
   ]
  },
  {
   "cell_type": "markdown",
   "metadata": {},
   "source": [
    "스케일을 함  \n",
    "대표적인 방법은 **표준점수**"
   ]
  },
  {
   "cell_type": "markdown",
   "metadata": {},
   "source": [
    "`from sklearn.preprocessing import StandardScaler`"
   ]
  },
  {
   "cell_type": "markdown",
   "metadata": {},
   "source": [
    " fit $\\rightarrow$ transform"
   ]
  },
  {
   "cell_type": "markdown",
   "metadata": {},
   "source": [
    " <span style=\"color:blue\">**두 번째 미션**</span>"
   ]
  },
  {
   "cell_type": "markdown",
   "metadata": {},
   "source": [
    "농어를 무게 단위로 판매하려고 함"
   ]
  },
  {
   "cell_type": "markdown",
   "metadata": {},
   "source": [
    "그런데 농어 무게를 다시 측정해야하는데 다른 데이터(길이,높이,두께)는 정상이라 무게를 예측하는 것을 만들어야 함"
   ]
  },
  {
   "cell_type": "markdown",
   "metadata": {},
   "source": [
    "정확하게 측정한 농어 샘플 56개로 시작"
   ]
  },
  {
   "cell_type": "markdown",
   "metadata": {},
   "source": [
    "- knn회귀를 사용  \n",
    "분류와 똑같이 샘플에 가장 가까운 샘플 K개를 선택하고 평균을 구함"
   ]
  },
  {
   "cell_type": "markdown",
   "metadata": {},
   "source": [
    "`from sklearn.neighbors import KNeighborsRegressor`"
   ]
  },
  {
   "cell_type": "markdown",
   "metadata": {},
   "source": [
    "과소적합이 생김 $\\rightarrow$ k를 줄여서 좀 더 복잡하게 모델을 만들어 냄"
   ]
  },
  {
   "cell_type": "markdown",
   "metadata": {},
   "source": [
    "**문제 발생1**"
   ]
  },
  {
   "cell_type": "markdown",
   "metadata": {},
   "source": [
    "실제 무게와 예측 무게와 차이가 많이 남"
   ]
  },
  {
   "cell_type": "markdown",
   "metadata": {},
   "source": [
    "- knn회귀 말고 선형 회귀를 사용"
   ]
  },
  {
   "cell_type": "markdown",
   "metadata": {},
   "source": [
    "`from sklearn.linear_model import LinearRegression`"
   ]
  },
  {
   "cell_type": "markdown",
   "metadata": {},
   "source": [
    "무게를 예측하는 일인데 -가 나옴 현실에서 있을 수 없는 일"
   ]
  },
  {
   "cell_type": "markdown",
   "metadata": {},
   "source": [
    "- 다항 회귀를 이용"
   ]
  },
  {
   "cell_type": "markdown",
   "metadata": {},
   "source": [
    "- 특성을 길이 말고 다른 것도 사용하기로 함"
   ]
  },
  {
   "cell_type": "markdown",
   "metadata": {},
   "source": [
    "- 다중 회귀 이용"
   ]
  },
  {
   "cell_type": "markdown",
   "metadata": {},
   "source": [
    "기존의 특성으로 새로운 특성을 만들어 냄(제곱, 곱 등등)  \n",
    "사이킷런에서 변환기를 사용"
   ]
  },
  {
   "cell_type": "markdown",
   "metadata": {},
   "source": [
    "`from sklearn.preprocessing import PolynomialFeatures`"
   ]
  },
  {
   "cell_type": "markdown",
   "metadata": {},
   "source": [
    " fit $\\rightarrow$ transform"
   ]
  },
  {
   "cell_type": "markdown",
   "metadata": {},
   "source": [
    "과대 적합이 발생"
   ]
  },
  {
   "cell_type": "markdown",
   "metadata": {},
   "source": [
    "**규제**는 계수의 크기를 작게 만들어 머신 러닝 모델이 훈련 세트를 너무 과도하게 학습하지 못하도록 방해  \n",
    "대표적으로 릿지와 라쏘가 있음"
   ]
  },
  {
   "cell_type": "markdown",
   "metadata": {},
   "source": [
    "- 릿지  \n",
    "계수를 제곱한 값을 기준으로 규제를 적용"
   ]
  },
  {
   "cell_type": "markdown",
   "metadata": {},
   "source": [
    "`from sklearn.linear_model import Ridge`"
   ]
  },
  {
   "cell_type": "markdown",
   "metadata": {},
   "source": [
    "- 라쏘  \n",
    "계수의 절댓값을 기준으로 규제를 적용하고 계수의 크기를 아예 0으로 만들 수 있음"
   ]
  },
  {
   "cell_type": "markdown",
   "metadata": {},
   "source": [
    "`from sklearn.linear_model import Lasso`"
   ]
  },
  {
   "cell_type": "markdown",
   "metadata": {},
   "source": [
    "$\\alpha$값이 작으면 계수를 줄이는게 약해짐"
   ]
  },
  {
   "cell_type": "markdown",
   "metadata": {},
   "source": [
    "마케팅 팀은 다가오는 명절 특수에 고객의 이목을 끌 새로운 이벤트를 기획 $\\rightarrow$  럭키백"
   ]
  },
  {
   "cell_type": "markdown",
   "metadata": {},
   "source": [
    "럭키백은 구성품을 모른 채 먼저 구매하고, 배송받은 다음에 구성품을 알 수 있고 생선으로 한정"
   ]
  },
  {
   "cell_type": "markdown",
   "metadata": {},
   "source": [
    "고객 만족 팀이 강하게 반대해서 생선의 확률은 알려주기로 함"
   ]
  },
  {
   "cell_type": "markdown",
   "metadata": {},
   "source": [
    " <span style=\"color:blue\">**세 번째 미션**</span>"
   ]
  },
  {
   "cell_type": "markdown",
   "metadata": {},
   "source": [
    "럭키백의 생선이 어떤 타깃에 속하는지 획률을 구하는 일"
   ]
  },
  {
   "cell_type": "markdown",
   "metadata": {},
   "source": [
    "생선 종류는 7개이고, 크기,무게,길이,높이,두께,대각선 길이 사용 가능"
   ]
  },
  {
   "cell_type": "markdown",
   "metadata": {},
   "source": [
    "혼공머신은 확률은 숫자니까 회귀 문제인가?7개의 생선에 대한 분류인가?하고 생각함"
   ]
  },
  {
   "cell_type": "markdown",
   "metadata": {},
   "source": [
    "- k-최근접 이웃 분류기로 계산"
   ]
  },
  {
   "cell_type": "markdown",
   "metadata": {},
   "source": [
    "`from skleran.neighbors import KNeighborsClassifer`"
   ]
  },
  {
   "cell_type": "markdown",
   "metadata": {},
   "source": [
    "- 다중 분류"
   ]
  },
  {
   "cell_type": "markdown",
   "metadata": {},
   "source": [
    "**문제 발생**"
   ]
  },
  {
   "cell_type": "markdown",
   "metadata": {},
   "source": [
    "3개의 최근접 이웃을 사용하기 때문에 가능한 확률이 4가지가 전부임"
   ]
  },
  {
   "cell_type": "markdown",
   "metadata": {},
   "source": [
    "- 로지스틱 회귀(이진 분류)"
   ]
  },
  {
   "cell_type": "markdown",
   "metadata": {},
   "source": [
    "시그모이드 함수 사용"
   ]
  },
  {
   "cell_type": "markdown",
   "metadata": {},
   "source": [
    "`from skleran.linear_model import LogisticRegression`"
   ]
  },
  {
   "cell_type": "markdown",
   "metadata": {},
   "source": [
    "predict_proba로 예측 확률 확인"
   ]
  },
  {
   "cell_type": "markdown",
   "metadata": {},
   "source": [
    "사이파이에 시그모이드 함수는 expit이고 decision_function으로 양성에 대한 z값을 확인"
   ]
  },
  {
   "cell_type": "markdown",
   "metadata": {},
   "source": [
    "- 로지스틱 회귀(다중 분류)"
   ]
  },
  {
   "cell_type": "markdown",
   "metadata": {},
   "source": [
    "클래스마다 z값을 하나씩 계산하고 높은게 예측 클래스가 된다"
   ]
  },
  {
   "cell_type": "markdown",
   "metadata": {},
   "source": [
    "소프트맥스 함수 사용"
   ]
  },
  {
   "cell_type": "markdown",
   "metadata": {},
   "source": [
    "`from scipy.special import softmax`"
   ]
  },
  {
   "cell_type": "markdown",
   "metadata": {},
   "source": [
    "고객들은 수산물과 IT를 접목시킨 이 상품을 좋아함  \n",
    "각 지역에서 한빛 마켓에 수산물을 공급하겠다고 함  \n",
    "영업 팀은 매주 7개의 생선을 무작위로 골라서 모델을 학습할 수 있게 훈련 데이터를 제공  \n",
    "하지만 수산물을 공급하겠다는 곳이 너무 많아서 샘플을 골라내는 것도 일임  \n",
    "또한 아직 데이터가 없는 것은 도착하는대로 바로 보내주기로 함"
   ]
  },
  {
   "cell_type": "markdown",
   "metadata": {},
   "source": [
    " <span style=\"color:blue\">**네 번째 미션**</span>"
   ]
  },
  {
   "cell_type": "markdown",
   "metadata": {},
   "source": [
    "새로운 데이터에 대해서만 조금씩 더 훈련하는 점진적 학습, 확률적 경사 하강법을 시도"
   ]
  },
  {
   "cell_type": "markdown",
   "metadata": {},
   "source": [
    "`from sklearn.linear.model import SGDClassifier`"
   ]
  },
  {
   "cell_type": "markdown",
   "metadata": {},
   "source": [
    "- loss는 log사용"
   ]
  },
  {
   "cell_type": "markdown",
   "metadata": {},
   "source": [
    "- max_iter로 반복 횟수 지정"
   ]
  },
  {
   "cell_type": "markdown",
   "metadata": {},
   "source": [
    "신상품으로 캔 와인을 판매하려고 함  \n",
    "그런데 주류는 온라인 판매가 안돼서 예약 후 오프라인으로 구매를 유도  \n",
    "급하게 제작이 되면서 레드 와인과 화이트 와인 표시가 누락이 됨"
   ]
  },
  {
   "cell_type": "markdown",
   "metadata": {},
   "source": [
    " <span style=\"color:blue\">**다섯 번째 미션**</span>"
   ]
  },
  {
   "cell_type": "markdown",
   "metadata": {},
   "source": [
    "알코올 도수, 당도, PH값으로 종류를 구별하기"
   ]
  },
  {
   "cell_type": "markdown",
   "metadata": {},
   "source": [
    "- 로지스틱 회귀 사용"
   ]
  },
  {
   "cell_type": "markdown",
   "metadata": {},
   "source": [
    "알코올 도수,당도,PH 스케일이 달라서 `StandardScalar`를 사용  \n",
    "과소적합"
   ]
  },
  {
   "cell_type": "markdown",
   "metadata": {},
   "source": [
    "아마 도수와 당도가 높을수록 화이트, PH가 높을수록 레드 와인일 가능성이 높을 것 같음  \n",
    "그러나 이 모델의 계수들의 의미를 설명하기 어려움"
   ]
  },
  {
   "cell_type": "markdown",
   "metadata": {},
   "source": [
    "- 결정 트리 모델 사용 "
   ]
  },
  {
   "cell_type": "markdown",
   "metadata": {},
   "source": [
    "`from sklearn.tree import DecisionTreeClassifier`"
   ]
  },
  {
   "cell_type": "markdown",
   "metadata": {},
   "source": [
    "- 그림"
   ]
  },
  {
   "cell_type": "markdown",
   "metadata": {},
   "source": [
    "`from sklearn.tree import plot_tree`"
   ]
  },
  {
   "cell_type": "markdown",
   "metadata": {},
   "source": [
    "- 가지치기"
   ]
  },
  {
   "cell_type": "markdown",
   "metadata": {},
   "source": [
    "최대 깊이를 지정하면 됨"
   ]
  },
  {
   "cell_type": "markdown",
   "metadata": {},
   "source": [
    "결정 트리는 스케일을 할 필요가 없음"
   ]
  },
  {
   "cell_type": "markdown",
   "metadata": {},
   "source": [
    "테스트 세트의 점수를 보고 자꾸 점수를 높은 모델을 하려고 함"
   ]
  },
  {
   "cell_type": "markdown",
   "metadata": {},
   "source": [
    "<span style=\"color:blue\">**여섯 번째 미션**</span>"
   ]
  },
  {
   "cell_type": "markdown",
   "metadata": {},
   "source": [
    "태스트 세트를 사용하지 말고 확인하는 방법"
   ]
  },
  {
   "cell_type": "markdown",
   "metadata": {},
   "source": [
    "- 검증 세트 사용"
   ]
  },
  {
   "cell_type": "markdown",
   "metadata": {},
   "source": [
    "훈련 세트 60%, 검정 세트 20%, 테스트 세트 20%"
   ]
  },
  {
   "cell_type": "markdown",
   "metadata": {},
   "source": [
    "- 교차검증"
   ]
  },
  {
   "cell_type": "markdown",
   "metadata": {},
   "source": [
    "검증 세트를 만드느라 훈련 세트의 양이 줄어들었으므로"
   ]
  },
  {
   "cell_type": "markdown",
   "metadata": {},
   "source": [
    "`cross_validate`"
   ]
  },
  {
   "cell_type": "markdown",
   "metadata": {},
   "source": [
    "회귀일 때는 `KFold`클래스 사용  \n",
    "분류일 때는 `StratifiedKFold`클래스 사용 (섞을 수 있음)"
   ]
  },
  {
   "cell_type": "markdown",
   "metadata": {},
   "source": [
    "- 그리드 서치+교차검증"
   ]
  },
  {
   "cell_type": "markdown",
   "metadata": {},
   "source": [
    "`GridSearchCV`"
   ]
  },
  {
   "cell_type": "markdown",
   "metadata": {},
   "source": [
    "` n_jobs=-1`은 모든 코어 사용"
   ]
  },
  {
   "cell_type": "markdown",
   "metadata": {},
   "source": [
    "`best_estimator_`에는 점수가 가장 높은 모델이 저장되어 있음"
   ]
  },
  {
   "cell_type": "markdown",
   "metadata": {},
   "source": [
    "`best_params_`에는 점수가 가장 높은 모델의 파라미터가 저장"
   ]
  },
  {
   "cell_type": "markdown",
   "metadata": {},
   "source": [
    "- 랜덤 서치+교차검증"
   ]
  },
  {
   "cell_type": "markdown",
   "metadata": {},
   "source": [
    "`RandomizedSearchCV`"
   ]
  },
  {
   "cell_type": "markdown",
   "metadata": {},
   "source": [
    "<span style=\"color:blue\">**일곱 번째 미션**</span>"
   ]
  },
  {
   "cell_type": "markdown",
   "metadata": {},
   "source": [
    "베스트 머신러닝 알고리즘을 찾기"
   ]
  },
  {
   "cell_type": "markdown",
   "metadata": {},
   "source": [
    "- 랜덤 포레스트"
   ]
  },
  {
   "cell_type": "markdown",
   "metadata": {},
   "source": [
    "`RandomForestClassifier`"
   ]
  },
  {
   "cell_type": "markdown",
   "metadata": {},
   "source": [
    "부스트랩 샘플: 중복을 허용하여 데이터를 샘플링하는 방식"
   ]
  },
  {
   "cell_type": "markdown",
   "metadata": {},
   "source": [
    "`RandomForestRegressor`"
   ]
  },
  {
   "cell_type": "markdown",
   "metadata": {},
   "source": [
    " RandomForestClassifier를 하면 부스트랩 샘플에 포함되지 않는 샘플을 out og bag이라 하고 이는 검증 세트로 사용가능"
   ]
  },
  {
   "cell_type": "markdown",
   "metadata": {},
   "source": [
    "`oob_score`"
   ]
  },
  {
   "cell_type": "markdown",
   "metadata": {},
   "source": [
    "- 엑스트라 트리"
   ]
  },
  {
   "cell_type": "markdown",
   "metadata": {},
   "source": [
    "부스트랩 대신 노드를 분할할 때 무작위"
   ]
  },
  {
   "cell_type": "markdown",
   "metadata": {},
   "source": [
    "`ExtraTreesClassifier`"
   ]
  },
  {
   "cell_type": "markdown",
   "metadata": {},
   "source": [
    "- 그레이디언트 부스팅"
   ]
  },
  {
   "cell_type": "markdown",
   "metadata": {},
   "source": [
    "깊이가 얕은 결정 트리를 사용하여 이전 트리의 오차를 보완하는 방식으로 앙상블 하는 방법"
   ]
  },
  {
   "cell_type": "markdown",
   "metadata": {},
   "source": [
    "`GradientBoostingClassifier`"
   ]
  },
  {
   "cell_type": "markdown",
   "metadata": {},
   "source": [
    "`GradientBoostingRegressor`"
   ]
  },
  {
   "cell_type": "markdown",
   "metadata": {},
   "source": [
    "- 히스토그램 기반 그레디언트 부스팅  "
   ]
  },
  {
   "cell_type": "markdown",
   "metadata": {},
   "source": [
    "입력 특성을 256으로 나눠서 노드를 분할할 때 최적의 분할을 매우 빠르게 찾을 수 있음"
   ]
  },
  {
   "cell_type": "markdown",
   "metadata": {},
   "source": [
    " `HistGradientBoostingClassifier`"
   ]
  },
  {
   "cell_type": "markdown",
   "metadata": {},
   "source": [
    "사이킷런 말고도 그레디언트 부스팅을 구현한 라이브러리가 있음  \n",
    "대표가 XGBoost, LightGBM"
   ]
  },
  {
   "cell_type": "markdown",
   "metadata": {},
   "source": [
    "<span style=\"color:blue\">**여덟 번째 미션**</span>"
   ]
  },
  {
   "cell_type": "markdown",
   "metadata": {},
   "source": [
    "사고 싶은 물건의 과일 사진을 보내면 그중에 많이 요청하는 과일을 판매 품목으로 선정하려고 함  \n",
    "타깃을 모르는 사진을 종류별로 분류   "
   ]
  },
  {
   "cell_type": "markdown",
   "metadata": {},
   "source": [
    "픽셀값을 모두 평균을 내면 비슷한 과일이 모이지 않을까?하고 생각을 하고 시도"
   ]
  },
  {
   "cell_type": "markdown",
   "metadata": {},
   "source": [
    "과일 데이터는 일단 사과, 바나나, 파인애플을 담고 있는 흑백 사진"
   ]
  },
  {
   "cell_type": "markdown",
   "metadata": {},
   "source": [
    "- `imshow`를 사용해서 넘파이 배열로 저장된 이미지를 쉽게 그릴 수 있음  \n",
    "0에 가까우면 검고 255에 가까우면 밝음  \n",
    "그런데 흑백사진은 반대로 바탕을 검게하고 우리가 집중하는 것을 밝게 해줌"
   ]
  },
  {
   "cell_type": "markdown",
   "metadata": {},
   "source": [
    "바나나 사진의 평균값은 40 아래에 집중  \n",
    "사과와 파인애플은 90-100사이에 몰림  \n",
    "평균으로 바나나/사과,파인애플 이렇게 구분은 됨  \n",
    "사과와 파인애플은 좀 더 고민을 해야함"
   ]
  },
  {
   "cell_type": "markdown",
   "metadata": {},
   "source": [
    "전체 샘플에 대한 각 픽셀의 평균을 계산하는 것  \n",
    "높이가 다를거라고 예상 $\\rightarrow$ 사과는 아래쪽으로 갈수록 값이 높아지고, 파인애플은 비교적 고르면서 높고, 바나나는 중앙의 픽셀이 높음"
   ]
  },
  {
   "cell_type": "markdown",
   "metadata": {},
   "source": [
    "- 절대값 오차를 사용"
   ]
  },
  {
   "cell_type": "markdown",
   "metadata": {},
   "source": [
    "비슷한 샘플끼리 모으는 작업을 `군집`  \n",
    "군집 알고리즘으로 만든 그룹을 `클러스터`  "
   ]
  },
  {
   "cell_type": "markdown",
   "metadata": {},
   "source": [
    "<span style=\"color:blue\">**아홉 번째 미션**</span>"
   ]
  },
  {
   "cell_type": "markdown",
   "metadata": {},
   "source": [
    "사진에 어떤 과일이 들어있는지 알지 못하므로 k-평균 알고리즘을 사용하여 비지도 학습 모델 만들기"
   ]
  },
  {
   "cell_type": "markdown",
   "metadata": {},
   "source": [
    "1. 무작위로 k개의 클러스터 중심을 정함  \n",
    "2. 각 샘플에서 가장 가까운 클러스터 중심을 찾아 클러스터의 샘플로 지정  \n",
    "3. 클러스터의 속한 샘플의 평균을 클러스터의 중심으로 변경  \n",
    "4. 중심에 변화가 없을 때까지 2번으로 돌아가 반복"
   ]
  },
  {
   "cell_type": "markdown",
   "metadata": {},
   "source": [
    "- k-평균 알고리즘"
   ]
  },
  {
   "cell_type": "markdown",
   "metadata": {},
   "source": [
    "`from sklearn.cluster import KMeans`"
   ]
  },
  {
   "cell_type": "markdown",
   "metadata": {},
   "source": [
    "- 엘보우"
   ]
  },
  {
   "cell_type": "markdown",
   "metadata": {},
   "source": [
    "`inertia_`"
   ]
  },
  {
   "cell_type": "markdown",
   "metadata": {},
   "source": [
    "자동으로 계산해서 속성으로 제공  \n",
    "이너셔가 줄어드는 속도가 꺾이는 곳을 최적의 클러스터 개수로 결정"
   ]
  }
 ],
 "metadata": {
  "kernelspec": {
   "display_name": "Python 3",
   "language": "python",
   "name": "python3"
  },
  "language_info": {
   "codemirror_mode": {
    "name": "ipython",
    "version": 3
   },
   "file_extension": ".py",
   "mimetype": "text/x-python",
   "name": "python",
   "nbconvert_exporter": "python",
   "pygments_lexer": "ipython3",
   "version": "3.8.5"
  },
  "toc": {
   "base_numbering": 1,
   "nav_menu": {},
   "number_sections": true,
   "sideBar": true,
   "skip_h1_title": false,
   "title_cell": "Table of Contents",
   "title_sidebar": "Contents",
   "toc_cell": false,
   "toc_position": {},
   "toc_section_display": true,
   "toc_window_display": false
  }
 },
 "nbformat": 4,
 "nbformat_minor": 4
}
