{
 "cells": [
  {
   "cell_type": "markdown",
   "metadata": {},
   "source": [
    "# 01-3"
   ]
  },
  {
   "cell_type": "markdown",
   "metadata": {},
   "source": [
    "## <span style=\"color:deeppink\">마무리</span>"
   ]
  },
  {
   "cell_type": "markdown",
   "metadata": {},
   "source": [
    "### 🍀 키워드로 끝내는 핵심 포인트"
   ]
  },
  {
   "cell_type": "markdown",
   "metadata": {},
   "source": [
    "<span style=\"color:deepskyblue\">특성</span>은 데이터를 표현하는 하나의 성질  \n",
    "생선 데이터에서는 길이와 무게"
   ]
  },
  {
   "cell_type": "markdown",
   "metadata": {},
   "source": [
    "<span style=\"color:deepskyblue\">훈련</span> 머신러닌 알고리즘이 데이터에서 규칙을 찾는 과정"
   ]
  },
  {
   "cell_type": "markdown",
   "metadata": {},
   "source": [
    "<span style=\"color:deepskyblue\">K-최근접 이웃 알고리즘</span>은 간단한 머신러닝 알고리즘"
   ]
  },
  {
   "cell_type": "markdown",
   "metadata": {},
   "source": [
    "<span style=\"color:deepskyblue\">모델</span>은 머신러닝 프로그램에서 알고리즘이 구현된 객체  \n",
    "종종 알고리즘 자체를 모델이라고 하기도 함"
   ]
  },
  {
   "cell_type": "markdown",
   "metadata": {},
   "source": [
    "<span style=\"color:deepskyblue\">정확도</span>는 정확한 답을 몇 개 맞혔는지 나타내는 값"
   ]
  },
  {
   "cell_type": "markdown",
   "metadata": {},
   "source": [
    "### 🍀 핵심 패키지와 함수"
   ]
  },
  {
   "cell_type": "markdown",
   "metadata": {},
   "source": [
    "#### <span style=\"color:blue\"><u>matplotlib</u></span>"
   ]
  },
  {
   "cell_type": "markdown",
   "metadata": {},
   "source": [
    "<span style=\"color:dodgerblue\"> scatter()</span>는 산점도를 그리는 맷플롯립 함수  \n",
    "처음 2개의 매개변수는 x와y축 값으로 전달  \n",
    "marker는 기본값이 원이다"
   ]
  },
  {
   "cell_type": "markdown",
   "metadata": {},
   "source": [
    "#### <span style=\"color:blue\"><u>scikit-learn</u></span>"
   ]
  },
  {
   "cell_type": "markdown",
   "metadata": {},
   "source": [
    "<span style=\"color:dodgerblue\">KNeighborsClassifier()</span>는 k-최근접 이웃 분류 모델을 만드는 사이킷런 클래스이다.  \n",
    "`n_neighbors`매개변수로 이웃의 개수를 지정하고 기본값은 5  \n",
    "`p`는 거리를 재는 방법을 지정  \n",
    "1:맨해튼 거리,2:유클리드 거리(기본값)  \n",
    "`n_jobs`CPU코어 지정"
   ]
  },
  {
   "cell_type": "markdown",
   "metadata": {},
   "source": [
    "<span style=\"color:dodgerblue\">fit()</span> 사이킷런 모델을 훈련할 때 사용"
   ]
  },
  {
   "cell_type": "markdown",
   "metadata": {},
   "source": [
    "<span style=\"color:dodgerblue\">predict()</span> 사이킷런 모델을 훈련하고 예측할 때 사용"
   ]
  },
  {
   "cell_type": "markdown",
   "metadata": {},
   "source": [
    "<span style=\"color:dodgerblue\">score()</span>는 훈련된 사이킷런 모델의 성능을 측정 "
   ]
  },
  {
   "cell_type": "markdown",
   "metadata": {},
   "source": [
    "# 02-1"
   ]
  },
  {
   "cell_type": "markdown",
   "metadata": {},
   "source": [
    "## <span style=\"color:deeppink\">마무리</span>"
   ]
  },
  {
   "cell_type": "markdown",
   "metadata": {},
   "source": [
    "### 🍀 키워드로 끝내는 핵심 포인트"
   ]
  },
  {
   "cell_type": "markdown",
   "metadata": {},
   "source": [
    "<span style=\"color:deepskyblue\">지도학습</span> 입력과 타깃을 전달하여 모델을 훈련한 다음 다른 새로운 데이터를 예측하는데 사용  \n",
    "K-최근접 이웃 알고리즘:지도학습"
   ]
  },
  {
   "cell_type": "markdown",
   "metadata": {},
   "source": [
    "<span style=\"color:deepskyblue\">비지도학습</span> 타깃 데이터가 없음  \n",
    "예측하는 것이 아니라 특징을 찾는데 사용"
   ]
  },
  {
   "cell_type": "markdown",
   "metadata": {},
   "source": [
    "<span style=\"color:deepskyblue\">훈련 세트</span> 훈련할 때 사용"
   ]
  },
  {
   "cell_type": "markdown",
   "metadata": {},
   "source": [
    "<span style=\"color:deepskyblue\">테스트 세트</span> 전체 데이터의 20~30%를 사용하는 경우가 많음"
   ]
  },
  {
   "cell_type": "markdown",
   "metadata": {},
   "source": [
    "### 🍀 핵심 패키지와 함수"
   ]
  },
  {
   "cell_type": "markdown",
   "metadata": {},
   "source": [
    "#### <span style=\"color:blue\"><u>numpy</u></span>"
   ]
  },
  {
   "cell_type": "markdown",
   "metadata": {},
   "source": [
    "<span style=\"color:dodgerblue\"> seed()</span>는 넘파이에서 난수를 생성하기 위한 정수 초깃값을 지정  \n",
    "랜덤 함수의 결과를 동일하게 재현하고 싶을 때"
   ]
  },
  {
   "cell_type": "markdown",
   "metadata": {},
   "source": [
    "<span style=\"color:dodgerblue\"> arange()</span>는 일정한 간격의 정수 또는 실수 배열을 만들고 기본 간격은 1이다."
   ]
  },
  {
   "cell_type": "code",
   "execution_count": 1,
   "metadata": {
    "ExecuteTime": {
     "end_time": "2022-06-17T01:25:15.433280Z",
     "start_time": "2022-06-17T01:25:14.354747Z"
    }
   },
   "outputs": [
    {
     "name": "stdout",
     "output_type": "stream",
     "text": [
      "[0 1 2]\n"
     ]
    }
   ],
   "source": [
    "import numpy as np\n",
    "print(np.arange(3))"
   ]
  },
  {
   "cell_type": "code",
   "execution_count": 3,
   "metadata": {
    "ExecuteTime": {
     "end_time": "2022-06-17T01:25:36.921690Z",
     "start_time": "2022-06-17T01:25:36.913694Z"
    }
   },
   "outputs": [
    {
     "name": "stdout",
     "output_type": "stream",
     "text": [
      "[1 2]\n"
     ]
    }
   ],
   "source": [
    "print(np.arange(1,3))"
   ]
  },
  {
   "cell_type": "code",
   "execution_count": 4,
   "metadata": {
    "ExecuteTime": {
     "end_time": "2022-06-17T01:26:05.428573Z",
     "start_time": "2022-06-17T01:26:05.412791Z"
    }
   },
   "outputs": [
    {
     "name": "stdout",
     "output_type": "stream",
     "text": [
      "[1.  1.2 1.4 1.6 1.8 2.  2.2 2.4 2.6 2.8]\n"
     ]
    }
   ],
   "source": [
    "print(np.arange(1,3,0.2))"
   ]
  },
  {
   "cell_type": "markdown",
   "metadata": {},
   "source": [
    "<span style=\"color:dodgerblue\"> shuffle()</span>는 주어진 배열을 무작위로 섞음"
   ]
  },
  {
   "cell_type": "code",
   "execution_count": 12,
   "metadata": {
    "ExecuteTime": {
     "end_time": "2022-06-17T01:28:41.528749Z",
     "start_time": "2022-06-17T01:28:41.512451Z"
    }
   },
   "outputs": [],
   "source": [
    "arr=np.array([[1,2],[3,4],[5,6]])"
   ]
  },
  {
   "cell_type": "code",
   "execution_count": 14,
   "metadata": {
    "ExecuteTime": {
     "end_time": "2022-06-17T01:31:08.026354Z",
     "start_time": "2022-06-17T01:31:08.005563Z"
    }
   },
   "outputs": [
    {
     "data": {
      "text/plain": [
       "array([[5, 6],\n",
       "       [3, 4],\n",
       "       [1, 2]])"
      ]
     },
     "execution_count": 14,
     "metadata": {},
     "output_type": "execute_result"
    }
   ],
   "source": [
    "np.random.shuffle(arr)\n",
    "arr"
   ]
  },
  {
   "cell_type": "markdown",
   "metadata": {},
   "source": [
    "# 02-2"
   ]
  },
  {
   "cell_type": "markdown",
   "metadata": {},
   "source": [
    "## <span style=\"color:deeppink\">마무리</span>"
   ]
  },
  {
   "cell_type": "markdown",
   "metadata": {},
   "source": [
    "### 🍀 키워드로 끝내는 핵심 포인트"
   ]
  },
  {
   "cell_type": "markdown",
   "metadata": {},
   "source": [
    "<span style=\"color:deepskyblue\">데이터 전처리</span> 데이터 가공하는 단계"
   ]
  },
  {
   "cell_type": "markdown",
   "metadata": {},
   "source": [
    "<span style=\"color:deepskyblue\">표준점수</span> 특성의 평균을 빼고 표준편차로 나눈다."
   ]
  },
  {
   "cell_type": "markdown",
   "metadata": {},
   "source": [
    "<span style=\"color:deepskyblue\">브로드캐스팅</span> 크기가 다른 넘파이 배열을 자동으로 확장하는 기능"
   ]
  },
  {
   "cell_type": "markdown",
   "metadata": {},
   "source": [
    "### 🍀 핵심 패키지와 함수"
   ]
  },
  {
   "cell_type": "markdown",
   "metadata": {},
   "source": [
    "#### <span style=\"color:blue\"><u>scikit-learn</u></span>"
   ]
  },
  {
   "cell_type": "markdown",
   "metadata": {},
   "source": [
    "<span style=\"color:dodgerblue\"> train_test_split()</span>는 훈련 세트와 테스트 세트로 나누는 함수  \n",
    "테스트 세트로 나누는 비율은 `test_size` 매개변수에서 지정할 수 있음  \n",
    "`shuffle`매개변수로 훈련 세트와 테스트 세트로 나누기 전에 무작위로 섞을지 여부 결정  \n",
    "`stratify`매개변수에 클래스 레이블이 담긴 배열을 넣으면 클래스 비율이 맞게 나눈다."
   ]
  },
  {
   "cell_type": "markdown",
   "metadata": {},
   "source": [
    "<span style=\"color:dodgerblue\"> kneighbors()</span>는 K-최근접 이웃 객체의 메서드이다.  \n",
    "입력한 데이터의 가장 가까운 이웃을 찾아 거리와 이웃 샘플의 인덱스를 반환한다.  \n",
    "`return_distance`매개변수를 False로 지정하면 인덱스만 반환하고 거리는 반환하지 않는다. 기본은 True"
   ]
  },
  {
   "cell_type": "markdown",
   "metadata": {},
   "source": [
    "# 03-1"
   ]
  },
  {
   "cell_type": "markdown",
   "metadata": {},
   "source": [
    "## <span style=\"color:deeppink\">마무리</span>"
   ]
  },
  {
   "cell_type": "markdown",
   "metadata": {},
   "source": [
    "### 🍀 키워드로 끝내는 핵심 포인트"
   ]
  },
  {
   "cell_type": "markdown",
   "metadata": {},
   "source": [
    "<span style=\"color:deepskyblue\">회귀</span>는 임의의 수치를 에측하는 문제"
   ]
  },
  {
   "cell_type": "markdown",
   "metadata": {},
   "source": [
    "<span style=\"color:deepskyblue\">k-최근접 이웃 회귀</span>는 k-최근접 이웃 알고리즘을 사용해 회귀 문제를 푼다  \n",
    "가장 가까운 이웃 샘플을 찾고 평균하여 예측으로 "
   ]
  },
  {
   "cell_type": "markdown",
   "metadata": {},
   "source": [
    "<span style=\"color:deepskyblue\">결정계수</span> 회귀 문제의 성능 측정 도구, 1에 가까울수록 좋음"
   ]
  },
  {
   "cell_type": "markdown",
   "metadata": {},
   "source": [
    "<span style=\"color:deepskyblue\">과대적합</span>은 훈련 세트의 성능이 테스트 세트의 성능보다 훨씬 좋을 때"
   ]
  },
  {
   "cell_type": "markdown",
   "metadata": {},
   "source": [
    "<span style=\"color:deepskyblue\">과소적합</span>은 테스트 세트의 성능이 훈련 세트의 성능보다 좋을 때나 모두 낮을 때"
   ]
  },
  {
   "cell_type": "markdown",
   "metadata": {},
   "source": [
    "### 🍀 핵심 패키지와 함수"
   ]
  },
  {
   "cell_type": "markdown",
   "metadata": {},
   "source": [
    "#### <span style=\"color:blue\"><u>scikit-learn</u></span>"
   ]
  },
  {
   "cell_type": "markdown",
   "metadata": {},
   "source": [
    "<span style=\"color:dodgerblue\"> KNeighborsRegressor()</span>는 k-최근접 이웃 회귀 모델을 만드는 사이킷런 클래스  \n",
    "`n_neighbors`는 이웃의 개수를 지정하는 매개변수이고 기본은 5"
   ]
  },
  {
   "cell_type": "markdown",
   "metadata": {},
   "source": [
    "<span style=\"color:dodgerblue\">mean_absolute_error()</span>는 회귀 모델의 평균 절댓값 오차를 계산  \n",
    "타깃,예측값 순서로 적어야 함  \n",
    "`mean_squared_error()`평균 제곱 오차를 계산하는 함수 "
   ]
  },
  {
   "cell_type": "markdown",
   "metadata": {},
   "source": [
    "#### <span style=\"color:blue\"><u>numpy</u></span>"
   ]
  },
  {
   "cell_type": "markdown",
   "metadata": {},
   "source": [
    "<span style=\"color:dodgerblue\">reshape()</span>는 배열의 크기를 바꾸는 메서드"
   ]
  },
  {
   "cell_type": "markdown",
   "metadata": {},
   "source": [
    "# 03-2"
   ]
  },
  {
   "cell_type": "markdown",
   "metadata": {},
   "source": [
    "## <span style=\"color:deeppink\">마무리</span>"
   ]
  },
  {
   "cell_type": "markdown",
   "metadata": {},
   "source": [
    "### 🍀 키워드로 끝내는 핵심 포인트"
   ]
  },
  {
   "cell_type": "markdown",
   "metadata": {},
   "source": [
    "<span style=\"color:deepskyblue\"> 선형 회귀</span>는 특성과 타깃의 관계를 가장 잘 나타내는 선형방정식을 찾음"
   ]
  },
  {
   "cell_type": "markdown",
   "metadata": {},
   "source": [
    "<span style=\"color:deepskyblue\">계수</span>에는 선형 회귀가 찾은 특성과 타깃의 관계가 저장된다."
   ]
  },
  {
   "cell_type": "markdown",
   "metadata": {},
   "source": [
    "<span style=\"color:deepskyblue\">모델 파라미터</span>는 선형 회귀가 찾은 가중치처럼 머신러닝 모델이 특성에서 학습한 파라미터"
   ]
  },
  {
   "cell_type": "markdown",
   "metadata": {},
   "source": [
    "<span style=\"color:deepskyblue\">다항 회귀</span>는 다항식을 사용하여 특성과 타깃 사이의 관계를 나타냄"
   ]
  },
  {
   "cell_type": "markdown",
   "metadata": {},
   "source": [
    "### 🍀 핵심 패키지와 함수"
   ]
  },
  {
   "cell_type": "markdown",
   "metadata": {},
   "source": [
    "#### <span style=\"color:blue\"><u>scikit-learn</u></span>"
   ]
  },
  {
   "cell_type": "markdown",
   "metadata": {},
   "source": [
    "<span style=\"color:dodgerblue\">LinearRegression()</span>는 사이킷런의 선형 회귀 클래스이다.  \n",
    "fit_intercept를 False로 하면 절편을 학습하지 않고 기본은 True"
   ]
  },
  {
   "cell_type": "markdown",
   "metadata": {},
   "source": [
    "# 03-3"
   ]
  },
  {
   "cell_type": "markdown",
   "metadata": {},
   "source": [
    "## <span style=\"color:deeppink\">마무리</span>"
   ]
  },
  {
   "cell_type": "markdown",
   "metadata": {},
   "source": [
    "### 🍀 키워드로 끝내는 핵심 포인트"
   ]
  },
  {
   "cell_type": "markdown",
   "metadata": {},
   "source": [
    "<span style=\"color:deepskyblue\">다중 회귀</span>는 여러 개의 특성을 사용하는 회귀 모델"
   ]
  },
  {
   "cell_type": "markdown",
   "metadata": {},
   "source": [
    "<span style=\"color:deepskyblue\">특성 공학</span>은 주어진 특성을 조합하여 새로운 특성을 만드는 과정"
   ]
  },
  {
   "cell_type": "markdown",
   "metadata": {},
   "source": [
    "<span style=\"color:deepskyblue\">릿지</span>는 규제가 있는 선형 회귀 모델 중 하나이며 선형 모델의 계수를 작게 만들어 과대적합을 완화시킴"
   ]
  },
  {
   "cell_type": "markdown",
   "metadata": {},
   "source": [
    "<span style=\"color:deepskyblue\">라쏘</span>는 릿지와 달리 0으로 만들 수도 있음"
   ]
  },
  {
   "cell_type": "markdown",
   "metadata": {},
   "source": [
    "<span style=\"color:deepskyblue\">하이퍼파라미터</span>는 사람이 지정하는 파라미터  \n",
    "릿지와 라쏘의 규제 강도를 나타내는 $\\alpha$가 대표적이다"
   ]
  },
  {
   "cell_type": "markdown",
   "metadata": {},
   "source": [
    "### 🍀 핵심 패키지와 함수"
   ]
  },
  {
   "cell_type": "markdown",
   "metadata": {},
   "source": [
    "#### <span style=\"color:blue\"><u>pandas</u></span>"
   ]
  },
  {
   "cell_type": "markdown",
   "metadata": {},
   "source": [
    "<span style=\"color:dodgerblue\">read_csv()</span>는 csv파일을 데이터프레임으로 변환하는 함수  \n",
    "skiprows는 파일에서 읽기 전에 건너뛸 행의 개수를 지정  \n",
    "nrows는 파일에서 읽을 행의 개수를 지정"
   ]
  },
  {
   "cell_type": "markdown",
   "metadata": {},
   "source": [
    "#### <span style=\"color:blue\"><u>scikit-learn</u></span>"
   ]
  },
  {
   "cell_type": "markdown",
   "metadata": {},
   "source": [
    "<span style=\"color:dodgerblue\">PolynomialFeature()</span>는 주어진 특성을 조합하여 새로운 특성을 만든다  \n",
    "degree는 최고 차수 지정  \n",
    "interaction_only가 True이면 거듭제곱 항은 제외되고 특성 간의 곱셈 항만 추가  \n",
    "include_bias가 False이면 절편을 위한 특성을 추가하지 않음"
   ]
  },
  {
   "cell_type": "markdown",
   "metadata": {},
   "source": [
    "<span style=\"color:dodgerblue\">Ridge()</span>  \n",
    "alpha로 규제 강도를 조절하는데 클수록 규제가 세진다  \n",
    "solver는 최적의 모델을 찾기 위한 방법을 지정할 수 있는데 기본이 auto라서 자동 선택 'sag','saga'는 확률적 평균 경사 하강법 알고리즘으로 특성과 샘플이 많을 때 성능이 빠르고 좋음  \n",
    "random_state는 시드값 지정"
   ]
  },
  {
   "cell_type": "markdown",
   "metadata": {},
   "source": [
    "<span style=\"color:dodgerblue\">Lasso()</span>  \n",
    "최적의 모델을 찾기 위해 좌표축을 따라 최적화를 수행하는 촤표 하강법을 사용  \n",
    "max_iterm는 반복 횟수이고 기본은 1000"
   ]
  },
  {
   "cell_type": "markdown",
   "metadata": {},
   "source": [
    "# 04-1"
   ]
  },
  {
   "cell_type": "markdown",
   "metadata": {},
   "source": [
    "## <span style=\"color:deeppink\">마무리</span>"
   ]
  },
  {
   "cell_type": "markdown",
   "metadata": {},
   "source": [
    "### 🍀 키워드로 끝내는 핵심 포인트"
   ]
  },
  {
   "cell_type": "markdown",
   "metadata": {},
   "source": [
    "<span style=\"color:deepskyblue\">로지스틱 회귀</span>는 선형 방정식을 사용한 분류 알고리즘  \n",
    "시그모이드 함수나 소프트맥스 함수 사용하여 클래스의 확률을 출력"
   ]
  },
  {
   "cell_type": "markdown",
   "metadata": {},
   "source": [
    "<span style=\"color:deepskyblue\">다중 분류</span>는 타깃이 2개 이상인 분류 문제  \n",
    "소프트맥스 함수 사용"
   ]
  },
  {
   "cell_type": "markdown",
   "metadata": {},
   "source": [
    "<span style=\"color:deepskyblue\">시그모이드 함수</span>는 0,1사이의 값으로 이진 분류를 위해 사용"
   ]
  },
  {
   "cell_type": "markdown",
   "metadata": {},
   "source": [
    "<span style=\"color:deepskyblue\">소프트맥스 함수</span>는 정규화해서 합이 1이 되도록"
   ]
  },
  {
   "cell_type": "markdown",
   "metadata": {},
   "source": [
    "### 🍀 핵심 패키지와 함수"
   ]
  },
  {
   "cell_type": "markdown",
   "metadata": {},
   "source": [
    "#### <span style=\"color:blue\"><u>scikit-learn</u></span>"
   ]
  },
  {
   "cell_type": "markdown",
   "metadata": {},
   "source": [
    "<span style=\"color:dodgerblue\">LogisticRegression()</span>"
   ]
  },
  {
   "cell_type": "markdown",
   "metadata": {},
   "source": [
    "solver는 알고리즘을 선택 가능, 기본값은 'lbfgs'  \n",
    "penalty는 L2규제,L1규제를 선택 가능하고 기본값은 L2규제인 'l2'\n",
    "C는 규제 강도를 제어, 기본은 1인데 작을수록 강해짐"
   ]
  },
  {
   "cell_type": "markdown",
   "metadata": {},
   "source": [
    "<span style=\"color:dodgerblue\">predict_proba()</span>"
   ]
  },
  {
   "cell_type": "markdown",
   "metadata": {},
   "source": [
    "예측 확률을 반환  \n",
    "이진 분류: 샘플마다 음성이랑 양성에 대한 확률  \n",
    "다중 분류: 샘플마다 모든 클래스에 대한 확률"
   ]
  },
  {
   "cell_type": "markdown",
   "metadata": {},
   "source": [
    "<span style=\"color:dodgerblue\">decision_function()</span>"
   ]
  },
  {
   "cell_type": "markdown",
   "metadata": {},
   "source": [
    "모델이 학습한 선형 방정식의 출력을 반환  \n",
    "이진 분류: 양성의 확률  \n",
    "다중 분류: 각 클래스마다 선형 방정식 계산하고 가장 큰 클래스가 예측 클래스가 된다"
   ]
  },
  {
   "cell_type": "markdown",
   "metadata": {},
   "source": [
    "# 04-2"
   ]
  },
  {
   "cell_type": "markdown",
   "metadata": {},
   "source": [
    "## <span style=\"color:deeppink\">마무리</span>"
   ]
  },
  {
   "cell_type": "markdown",
   "metadata": {},
   "source": [
    "### 🍀 키워드로 끝내는 핵심 포인트"
   ]
  },
  {
   "cell_type": "markdown",
   "metadata": {},
   "source": [
    "<span style=\"color:deepskyblue\">확률적 경사 하강법</span>은 훈련 세트에서 샘플 하나씩 꺼내 손상 함수의 경사를 따라 최적의 모델을 찾는 알고리즘  \n",
    "하나씩이 아니라 여러 개를 사용하면 미니배치 경사 하강법이고 다 사용하면 배치 경사 하강법 "
   ]
  },
  {
   "cell_type": "markdown",
   "metadata": {},
   "source": [
    "<span style=\"color:deepskyblue\">손실 함수</span>는 확률적 경사 하강법이 최적화할 대상  \n",
    "이진 분류는 로직스틱 회귀이고 이진 크로스엔트로피를 사용하고 다중 분류는 크로스엔트로피를 사용  \n",
    "회귀는 평균 제곱 오차 손실 함수를 사용"
   ]
  },
  {
   "cell_type": "markdown",
   "metadata": {},
   "source": [
    "<span style=\"color:deepskyblue\">에포크</span>는 확률적 경사 하강법에서 전체 샘플을 모두 사용하는 한 번 반복을 의미  \n",
    "일반적으로 수십에서 수백 번의 에포크를 반복"
   ]
  },
  {
   "cell_type": "markdown",
   "metadata": {},
   "source": [
    "### 🍀 핵심 패키지와 함수"
   ]
  },
  {
   "cell_type": "markdown",
   "metadata": {},
   "source": [
    "#### <span style=\"color:blue\"><u>scikit-learn</u></span>"
   ]
  },
  {
   "cell_type": "markdown",
   "metadata": {},
   "source": [
    "<span style=\"color:dodgerblue\">SGDClassifier()</span>\n",
    "loss는 손실 함수를 지정하고 기본은 svm의 'hinge'이고 로지스틱은 'log'  \n",
    "penalty는 규제의 종류를 지정 기본은 'l2'이고, 강도는 alpha에서 지정, 기본은 0.0001  \n",
    "max_iter는 에포크 횟수이고 기본은 1000  \n",
    "tol은 반복을 멈출 조건  \n",
    "n_iter_no_change가 지정한 에포크동안 손실이 tol만큼 줄어들지 않으면 중단  \n",
    "tol은 0.001, n_iter_no_change는 5"
   ]
  },
  {
   "cell_type": "markdown",
   "metadata": {},
   "source": [
    "<span style=\"color:dodgerblue\">SGDRegressor()</span>  \n",
    "loss는 손실 함수를 지정하고 기본은 'squared_loss' "
   ]
  },
  {
   "cell_type": "markdown",
   "metadata": {},
   "source": [
    "# 05-1"
   ]
  },
  {
   "cell_type": "markdown",
   "metadata": {},
   "source": [
    "## <span style=\"color:deeppink\">마무리</span>"
   ]
  },
  {
   "cell_type": "markdown",
   "metadata": {},
   "source": [
    "### 🍀 키워드로 끝내는 핵심 포인트"
   ]
  },
  {
   "cell_type": "markdown",
   "metadata": {},
   "source": [
    "<span style=\"color:deepskyblue\"></span>"
   ]
  },
  {
   "cell_type": "markdown",
   "metadata": {},
   "source": [
    "### 🍀 핵심 패키지와 함수"
   ]
  },
  {
   "cell_type": "markdown",
   "metadata": {},
   "source": [
    "#### <span style=\"color:blue\"><u>scikit-learn</u></span>"
   ]
  },
  {
   "cell_type": "markdown",
   "metadata": {},
   "source": [
    "<span style=\"color:dodgerblue\"> ()</span>"
   ]
  },
  {
   "cell_type": "markdown",
   "metadata": {},
   "source": [
    "# 05-2"
   ]
  },
  {
   "cell_type": "markdown",
   "metadata": {},
   "source": [
    "## <span style=\"color:deeppink\">마무리</span>"
   ]
  },
  {
   "cell_type": "markdown",
   "metadata": {},
   "source": [
    "### 🍀 키워드로 끝내는 핵심 포인트"
   ]
  },
  {
   "cell_type": "markdown",
   "metadata": {},
   "source": [
    "<span style=\"color:deepskyblue\"></span>"
   ]
  },
  {
   "cell_type": "markdown",
   "metadata": {},
   "source": [
    "### 🍀 핵심 패키지와 함수"
   ]
  },
  {
   "cell_type": "markdown",
   "metadata": {},
   "source": [
    "#### <span style=\"color:blue\"><u>scikit-learn</u></span>"
   ]
  },
  {
   "cell_type": "markdown",
   "metadata": {},
   "source": [
    "<span style=\"color:dodgerblue\"> ()</span>"
   ]
  },
  {
   "cell_type": "markdown",
   "metadata": {},
   "source": [
    "# 05-3"
   ]
  },
  {
   "cell_type": "markdown",
   "metadata": {},
   "source": [
    "## <span style=\"color:deeppink\">마무리</span>"
   ]
  },
  {
   "cell_type": "markdown",
   "metadata": {},
   "source": [
    "### 🍀 키워드로 끝내는 핵심 포인트"
   ]
  },
  {
   "cell_type": "markdown",
   "metadata": {},
   "source": [
    "<span style=\"color:deepskyblue\"></span>"
   ]
  },
  {
   "cell_type": "markdown",
   "metadata": {},
   "source": [
    "### 🍀 핵심 패키지와 함수"
   ]
  },
  {
   "cell_type": "markdown",
   "metadata": {},
   "source": [
    "#### <span style=\"color:blue\"><u>scikit-learn</u></span>"
   ]
  },
  {
   "cell_type": "markdown",
   "metadata": {},
   "source": [
    "<span style=\"color:dodgerblue\"> ()</span>"
   ]
  },
  {
   "cell_type": "markdown",
   "metadata": {},
   "source": [
    "## <span style=\"color:deeppink\">마무리</span>\n",
    "### 🍀 키워드로 끝내는 핵심 포인트\n",
    "<span style=\"color:deepskyblue\"></span>\n",
    "### 🍀 핵심 패키지와 함수\n",
    "#### <span style=\"color:blue\"><u></u></span>\n",
    "<span style=\"color:dodgerblue\"> ()</span>"
   ]
  }
 ],
 "metadata": {
  "kernelspec": {
   "display_name": "Python 3",
   "language": "python",
   "name": "python3"
  },
  "language_info": {
   "codemirror_mode": {
    "name": "ipython",
    "version": 3
   },
   "file_extension": ".py",
   "mimetype": "text/x-python",
   "name": "python",
   "nbconvert_exporter": "python",
   "pygments_lexer": "ipython3",
   "version": "3.8.5"
  },
  "toc": {
   "base_numbering": 1,
   "nav_menu": {},
   "number_sections": true,
   "sideBar": true,
   "skip_h1_title": false,
   "title_cell": "Table of Contents",
   "title_sidebar": "Contents",
   "toc_cell": false,
   "toc_position": {},
   "toc_section_display": true,
   "toc_window_display": false
  }
 },
 "nbformat": 4,
 "nbformat_minor": 4
}
