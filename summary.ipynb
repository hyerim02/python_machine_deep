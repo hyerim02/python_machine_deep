{
 "cells": [
  {
   "cell_type": "markdown",
   "metadata": {},
   "source": [
    "# 01-3"
   ]
  },
  {
   "cell_type": "markdown",
   "metadata": {},
   "source": [
    "## <span style=\"color:deeppink\">마무리</span>"
   ]
  },
  {
   "cell_type": "markdown",
   "metadata": {},
   "source": [
    "### 🍀 키워드로 끝내는 핵심 포인트"
   ]
  },
  {
   "cell_type": "markdown",
   "metadata": {},
   "source": [
    "<span style=\"color:deepskyblue\">특성</span>은 데이터를 표현하는 하나의 성질  \n",
    "생선 데이터에서는 길이와 무게"
   ]
  },
  {
   "cell_type": "markdown",
   "metadata": {},
   "source": [
    "<span style=\"color:deepskyblue\">훈련</span> 머신러닌 알고리즘이 데이터에서 규칙을 찾는 과정"
   ]
  },
  {
   "cell_type": "markdown",
   "metadata": {},
   "source": [
    "<span style=\"color:deepskyblue\">K-최근접 이웃 알고리즘</span>은 간단한 머신러닝 알고리즘"
   ]
  },
  {
   "cell_type": "markdown",
   "metadata": {},
   "source": [
    "<span style=\"color:deepskyblue\">모델</span>은 머신러닝 프로그램에서 알고리즘이 구현된 객체  \n",
    "종종 알고리즘 자체를 모델이라고 하기도 함"
   ]
  },
  {
   "cell_type": "markdown",
   "metadata": {},
   "source": [
    "<span style=\"color:deepskyblue\">정확도</span>는 정확한 답을 몇 개 맞혔는지 나타내는 값"
   ]
  },
  {
   "cell_type": "markdown",
   "metadata": {},
   "source": [
    "### 🍀 핵심 패키지와 함수"
   ]
  },
  {
   "cell_type": "markdown",
   "metadata": {},
   "source": [
    "#### <span style=\"color:blue\"><u>matplotlib</u></span>"
   ]
  },
  {
   "cell_type": "markdown",
   "metadata": {},
   "source": [
    "<span style=\"color:dodgerblue\"> scatter()</span>는 산점도를 그리는 맷플롯립 함수  \n",
    "처음 2개의 매개변수는 x와y축 값으로 전달  \n",
    "marker는 기본값이 원이다"
   ]
  },
  {
   "cell_type": "markdown",
   "metadata": {},
   "source": [
    "#### <span style=\"color:blue\"><u>scikit-learn</u></span>"
   ]
  },
  {
   "cell_type": "markdown",
   "metadata": {},
   "source": [
    "<span style=\"color:dodgerblue\">KNeighborsClassifier()</span>는 k-최근접 이웃 분류 모델을 만드는 사이킷런 클래스이다.  \n",
    "`n_neighbors`매개변수로 이웃의 개수를 지정하고 기본값은 5  \n",
    "`p`는 거리를 재는 방법을 지정  \n",
    "1:맨해튼 거리,2:유클리드 거리(기본값)  \n",
    "`n_jobs`CPU코어 지정"
   ]
  },
  {
   "cell_type": "markdown",
   "metadata": {},
   "source": [
    "<span style=\"color:dodgerblue\">fit()</span> 사이킷런 모델을 훈련할 때 사용"
   ]
  },
  {
   "cell_type": "markdown",
   "metadata": {},
   "source": [
    "<span style=\"color:dodgerblue\">predict()</span> 사이킷런 모델을 훈련하고 예측할 때 사용"
   ]
  },
  {
   "cell_type": "markdown",
   "metadata": {},
   "source": [
    "<span style=\"color:dodgerblue\">score()</span>는 훈련된 사이킷런 모델의 성능을 측정 "
   ]
  },
  {
   "cell_type": "markdown",
   "metadata": {},
   "source": [
    "# 02-1"
   ]
  },
  {
   "cell_type": "markdown",
   "metadata": {},
   "source": [
    "## <span style=\"color:deeppink\">마무리</span>"
   ]
  },
  {
   "cell_type": "markdown",
   "metadata": {},
   "source": [
    "### 🍀 키워드로 끝내는 핵심 포인트"
   ]
  },
  {
   "cell_type": "markdown",
   "metadata": {},
   "source": [
    "<span style=\"color:deepskyblue\">지도학습</span> 입력과 타깃을 전달하여 모델을 훈련한 다음 다른 새로운 데이터를 예측하는데 사용  \n",
    "K-최근접 이웃 알고리즘:지도학습"
   ]
  },
  {
   "cell_type": "markdown",
   "metadata": {},
   "source": [
    "<span style=\"color:deepskyblue\">비지도학습</span> 타깃 데이터가 없음  \n",
    "예측하는 것이 아니라 특징을 찾는데 사용"
   ]
  },
  {
   "cell_type": "markdown",
   "metadata": {},
   "source": [
    "<span style=\"color:deepskyblue\">훈련 세트</span> 훈련할 때 사용"
   ]
  },
  {
   "cell_type": "markdown",
   "metadata": {},
   "source": [
    "<span style=\"color:deepskyblue\">테스트 세트</span> 전체 데이터의 20~30%를 사용하는 경우가 많음"
   ]
  },
  {
   "cell_type": "markdown",
   "metadata": {},
   "source": [
    "### 🍀 핵심 패키지와 함수"
   ]
  },
  {
   "cell_type": "markdown",
   "metadata": {},
   "source": [
    "#### <span style=\"color:blue\"><u>numpy</u></span>"
   ]
  },
  {
   "cell_type": "markdown",
   "metadata": {},
   "source": [
    "<span style=\"color:dodgerblue\"> seed()</span>는 넘파이에서 난수를 생성하기 위한 정수 초깃값을 지정  \n",
    "랜덤 함수의 결과를 동일하게 재현하고 싶을 때"
   ]
  },
  {
   "cell_type": "markdown",
   "metadata": {},
   "source": [
    "<span style=\"color:dodgerblue\"> arange()</span>는 일정한 간격의 정수 또는 실수 배열을 만들고 기본 간격은 1이다."
   ]
  },
  {
   "cell_type": "code",
   "execution_count": 1,
   "metadata": {
    "ExecuteTime": {
     "end_time": "2022-06-17T01:25:15.433280Z",
     "start_time": "2022-06-17T01:25:14.354747Z"
    }
   },
   "outputs": [
    {
     "name": "stdout",
     "output_type": "stream",
     "text": [
      "[0 1 2]\n"
     ]
    }
   ],
   "source": [
    "import numpy as np\n",
    "print(np.arange(3))"
   ]
  },
  {
   "cell_type": "code",
   "execution_count": 3,
   "metadata": {
    "ExecuteTime": {
     "end_time": "2022-06-17T01:25:36.921690Z",
     "start_time": "2022-06-17T01:25:36.913694Z"
    }
   },
   "outputs": [
    {
     "name": "stdout",
     "output_type": "stream",
     "text": [
      "[1 2]\n"
     ]
    }
   ],
   "source": [
    "print(np.arange(1,3))"
   ]
  },
  {
   "cell_type": "code",
   "execution_count": 4,
   "metadata": {
    "ExecuteTime": {
     "end_time": "2022-06-17T01:26:05.428573Z",
     "start_time": "2022-06-17T01:26:05.412791Z"
    }
   },
   "outputs": [
    {
     "name": "stdout",
     "output_type": "stream",
     "text": [
      "[1.  1.2 1.4 1.6 1.8 2.  2.2 2.4 2.6 2.8]\n"
     ]
    }
   ],
   "source": [
    "print(np.arange(1,3,0.2))"
   ]
  },
  {
   "cell_type": "markdown",
   "metadata": {},
   "source": [
    "<span style=\"color:dodgerblue\"> shuffle</span>는 주어진 배열을 무작위로 섞음"
   ]
  },
  {
   "cell_type": "code",
   "execution_count": 12,
   "metadata": {
    "ExecuteTime": {
     "end_time": "2022-06-17T01:28:41.528749Z",
     "start_time": "2022-06-17T01:28:41.512451Z"
    }
   },
   "outputs": [],
   "source": [
    "arr=np.array([[1,2],[3,4],[5,6]])"
   ]
  },
  {
   "cell_type": "code",
   "execution_count": 14,
   "metadata": {
    "ExecuteTime": {
     "end_time": "2022-06-17T01:31:08.026354Z",
     "start_time": "2022-06-17T01:31:08.005563Z"
    }
   },
   "outputs": [
    {
     "data": {
      "text/plain": [
       "array([[5, 6],\n",
       "       [3, 4],\n",
       "       [1, 2]])"
      ]
     },
     "execution_count": 14,
     "metadata": {},
     "output_type": "execute_result"
    }
   ],
   "source": [
    "np.random.shuffle(arr)\n",
    "arr"
   ]
  },
  {
   "cell_type": "markdown",
   "metadata": {},
   "source": [
    "# 02-2"
   ]
  },
  {
   "cell_type": "markdown",
   "metadata": {},
   "source": [
    "## <span style=\"color:deeppink\">마무리</span>"
   ]
  },
  {
   "cell_type": "markdown",
   "metadata": {},
   "source": [
    "### 🍀 키워드로 끝내는 핵심 포인트"
   ]
  },
  {
   "cell_type": "markdown",
   "metadata": {},
   "source": [
    "<span style=\"color:deepskyblue\">데이터 전처리</span> 데이터 가공하는 단계"
   ]
  },
  {
   "cell_type": "markdown",
   "metadata": {},
   "source": [
    "<span style=\"color:deepskyblue\">표준점수</span> 특성의 평균을 빼고 표준편차로 나눈다."
   ]
  },
  {
   "cell_type": "markdown",
   "metadata": {},
   "source": [
    "<span style=\"color:deepskyblue\">브로드캐스팅</span> 크기가 다른 넘파이 배열을 자동으로 확장하는 기능"
   ]
  },
  {
   "cell_type": "markdown",
   "metadata": {},
   "source": [
    "### 🍀 핵심 패키지와 함수"
   ]
  },
  {
   "cell_type": "markdown",
   "metadata": {},
   "source": [
    "#### <span style=\"color:blue\"><u>scikit-learn</u></span>"
   ]
  },
  {
   "cell_type": "markdown",
   "metadata": {},
   "source": [
    "<span style=\"color:dodgerblue\"> train_test_split()</span>는 훈련 세트와 테스트 세트로 나누는 함수  \n",
    "테스트 세트로 나누는 비율은 `test_size` 매개변수에서 지정할 수 있음  \n",
    "`shuffle`매개변수로 훈련 세트와 테스트 세트로 나누기 전에 무작위로 섞을지 여부 결정  \n",
    "`stratify`매개변수에 클래스 레이블이 담긴 배열을 넣으면 클래스 비율이 맞게 나눈다."
   ]
  },
  {
   "cell_type": "markdown",
   "metadata": {},
   "source": [
    "<span style=\"color:dodgerblue\"> kneighbors()</span>는 K-최근접 이웃 객체의 메서드이다.  \n",
    "입력한 데이터의 가장 가까운 이웃을 찾아 거리와 이웃 샘플의 인덱스를 반환한다.  \n",
    "`return_distance`매개변수를 False로 지정하면 인덱스만 반환하고 거리는 반환하지 않는다. 기본은 True"
   ]
  },
  {
   "cell_type": "markdown",
   "metadata": {},
   "source": [
    "# 03-1"
   ]
  },
  {
   "cell_type": "markdown",
   "metadata": {},
   "source": [
    "## <span style=\"color:deeppink\">마무리</span>"
   ]
  },
  {
   "cell_type": "markdown",
   "metadata": {},
   "source": [
    "### 🍀 키워드로 끝내는 핵심 포인트"
   ]
  },
  {
   "cell_type": "markdown",
   "metadata": {},
   "source": [
    "<span style=\"color:deepskyblue\"></span>"
   ]
  },
  {
   "cell_type": "markdown",
   "metadata": {},
   "source": [
    "### 🍀 핵심 패키지와 함수"
   ]
  },
  {
   "cell_type": "markdown",
   "metadata": {},
   "source": [
    "#### <span style=\"color:blue\"><u></u></span>"
   ]
  },
  {
   "cell_type": "markdown",
   "metadata": {},
   "source": [
    "<span style=\"color:dodgerblue\"> ()</span>"
   ]
  },
  {
   "cell_type": "markdown",
   "metadata": {},
   "source": [
    "# 03-2"
   ]
  },
  {
   "cell_type": "markdown",
   "metadata": {},
   "source": [
    "# 03-3"
   ]
  },
  {
   "cell_type": "markdown",
   "metadata": {},
   "source": [
    "## <span style=\"color:deeppink\">마무리</span>\n",
    "### 🍀 키워드로 끝내는 핵심 포인트\n",
    "<span style=\"color:deepskyblue\"></span>\n",
    "### 🍀 핵심 패키지와 함수\n",
    "#### <span style=\"color:blue\"><u></u></span>\n",
    "<span style=\"color:dodgerblue\"> ()</span>"
   ]
  },
  {
   "cell_type": "markdown",
   "metadata": {},
   "source": [
    "# 04-1"
   ]
  }
 ],
 "metadata": {
  "kernelspec": {
   "display_name": "Python 3",
   "language": "python",
   "name": "python3"
  },
  "language_info": {
   "codemirror_mode": {
    "name": "ipython",
    "version": 3
   },
   "file_extension": ".py",
   "mimetype": "text/x-python",
   "name": "python",
   "nbconvert_exporter": "python",
   "pygments_lexer": "ipython3",
   "version": "3.8.5"
  },
  "toc": {
   "base_numbering": 1,
   "nav_menu": {},
   "number_sections": true,
   "sideBar": true,
   "skip_h1_title": false,
   "title_cell": "Table of Contents",
   "title_sidebar": "Contents",
   "toc_cell": false,
   "toc_position": {},
   "toc_section_display": true,
   "toc_window_display": false
  }
 },
 "nbformat": 4,
 "nbformat_minor": 4
}
